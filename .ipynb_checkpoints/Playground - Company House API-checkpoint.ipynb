{
 "cells": [
  {
   "cell_type": "markdown",
   "id": "29ee9850",
   "metadata": {},
   "source": [
    "# API we will use: Companies House\n",
    "\n",
    "Companies house is the official public  register of all companies in the UK. You can search for companiers, peope etc. You can also get basic information about many companies, or request detailed information about one company. https://developer.company-information.service.gov.uk/get-started. "
   ]
  },
  {
   "cell_type": "code",
   "execution_count": 1,
   "id": "8ad22cd8",
   "metadata": {},
   "outputs": [],
   "source": [
    "# list of library for this project\n",
    "import requests\n",
    "import pprint as pp\n",
    "import datetime\n",
    "from datetime import date \n",
    "from datetime import datetime\n",
    "import math\n",
    "import time\n",
    "import config\n",
    "# you might need to add a few of your own"
   ]
  },
  {
   "cell_type": "code",
   "execution_count": 10,
   "id": "b24fd15d",
   "metadata": {},
   "outputs": [],
   "source": [
    "# function for calling the API to retrieve JSON\n",
    "def call_api_with(url_extension):\n",
    "    api_key = config.api_key    \n",
    "    login_headers = {\"Authorization\":api_key}\n",
    "    url = f\"https://api.companieshouse.gov.uk/{url_extension}\"\n",
    "    #print(f'requesting: {url}') \n",
    "    # How many calls you are making\n",
    "    res = requests.get(url, headers=login_headers) #, verify=False)\n",
    "    #res.status_code == 200:\n",
    "    return res.json()\n",
    "    #else:\n",
    "        #print(\"status code is not 'SUCCESS 200'. Will wait 360 seconds/6 minutes\")\n",
    "        #time.sleep(360) # sleep X seconds\n",
    "        #return call_api_with(url_extension) # then make the same request that brought you here. Basiclaly try again."
   ]
  },
  {
   "cell_type": "code",
   "execution_count": 3,
   "id": "fc5c6739",
   "metadata": {},
   "outputs": [],
   "source": [
    "def get_one_test_company_or_error():\n",
    "    url = f\"search/companies?q=shop&items_per_page=1\"\n",
    "    return call_api_with(url)"
   ]
  },
  {
   "cell_type": "code",
   "execution_count": 4,
   "id": "fc84e380",
   "metadata": {},
   "outputs": [],
   "source": [
    "# search company with specific query / keyword\n",
    "def search_for_companies_with_query(query, number_of_companies = 100):\n",
    "    # for simplicity round up the number of returned companies to the nearest hundred. eg. 130 becomes 200\n",
    "    page_size = 100\n",
    "    number_of_pages = math.ceil(number_of_companies / page_size) # round up\n",
    "    companies = []\n",
    "    for page_index in range(0, number_of_pages):\n",
    "        url = f\"search/companies?q={query}&items_per_page={page_size}&start_index={page_index*page_size}\"\n",
    "        companies += call_api_with(url).get('items', [])\n",
    "    return companies"
   ]
  },
  {
   "cell_type": "code",
   "execution_count": 5,
   "id": "a06d9d0e",
   "metadata": {},
   "outputs": [],
   "source": [
    "# request to get company data based on company number\n",
    "def data_for_company(company_number):\n",
    "    url = f\"company/{company_number}\"\n",
    "    return call_api_with(url)"
   ]
  },
  {
   "cell_type": "code",
   "execution_count": 6,
   "id": "519efbdf",
   "metadata": {},
   "outputs": [],
   "source": [
    "# get all persons with significant control from company which contains specific keyword\n",
    "def all_persons_in_company(company_number):\n",
    "    url = f\"company/{company_number}/persons-with-significant-control\"\n",
    "    return call_api_with(url).get('items', [])"
   ]
  },
  {
   "cell_type": "code",
   "execution_count": 7,
   "id": "29d6697b",
   "metadata": {},
   "outputs": [],
   "source": [
    "def detailed_info_about_companies_with_ids(companies_numbers):\n",
    "    results = []\n",
    "    for company_number in companies_numbers:\n",
    "        results.append(data_for_company(company_number))\n",
    "    return results"
   ]
  },
  {
   "cell_type": "code",
   "execution_count": 8,
   "id": "e63b61c6",
   "metadata": {},
   "outputs": [],
   "source": [
    "def detailed_info_about_companies_with_name(name, how_many = 10):\n",
    "    companies_basic_info = search_for_companies_with_query(name, how_many)\n",
    "    companies_ids = [company['company_number'] for company in companies_basic_info]\n",
    "    companies = detailed_info_about_companies_with_ids(companies_ids[:how_many])\n",
    "    return companies"
   ]
  },
  {
   "cell_type": "code",
   "execution_count": 11,
   "id": "1ce047b9",
   "metadata": {
    "scrolled": true
   },
   "outputs": [],
   "source": [
    "details = detailed_info_about_companies_with_name('banana', how_many=2)"
   ]
  },
  {
   "cell_type": "code",
   "execution_count": 15,
   "id": "f1836011",
   "metadata": {
    "scrolled": false
   },
   "outputs": [],
   "source": [
    "#pp.pprint((details[1]['sic_codes'][0]))\n",
    "#pp.pprint(len(details))\n",
    "#pp.pprint([detail for detail in details if detail['sic_codes']==['62020']])\n",
    "#pp.pprint(details)"
   ]
  },
  {
   "cell_type": "code",
   "execution_count": 17,
   "id": "80ca64a3",
   "metadata": {
    "scrolled": false
   },
   "outputs": [],
   "source": [
    "#persons = all_persons_in_company(details[1]['company_number'])\n",
    "#pp.pprint(persons)"
   ]
  },
  {
   "cell_type": "markdown",
   "id": "0806669d",
   "metadata": {
    "deletable": false,
    "nbgrader": {
     "cell_type": "code",
     "checksum": "9a6e3a6a854c5207e8fcb66335471a5d",
     "grade": true,
     "grade_id": "cell-b5b5ea7c8326b1d9",
     "locked": false,
     "points": 100,
     "schema_version": 3,
     "solution": true,
     "task": false
    }
   },
   "source": [
    "## Do companies in stereotypically male dominated fields still showcase the same disparities? Can this present an opportunity for change?"
   ]
  },
  {
   "cell_type": "code",
   "execution_count": 199,
   "id": "adapted-australian",
   "metadata": {},
   "outputs": [],
   "source": [
    "import pandas as pd\n",
    "import numpy as np\n",
    "from matplotlib import pyplot as plt\n",
    "import json\n",
    "import os"
   ]
  },
  {
   "cell_type": "code",
   "execution_count": 248,
   "id": "measured-shell",
   "metadata": {},
   "outputs": [],
   "source": [
    "def list_of_people_running(companies):\n",
    "    people =[]\n",
    "    for i in range(len(companies)):\n",
    "        person = all_persons_in_company(companies[i]['company_number'])\n",
    "        people.append(person)\n",
    "    return people"
   ]
  },
  {
   "cell_type": "code",
   "execution_count": 21,
   "id": "silent-engagement",
   "metadata": {
    "scrolled": true
   },
   "outputs": [],
   "source": [
    "def get_nature_of_control(list_of_people):\n",
    "    control = []\n",
    "    right_per_time =[]\n",
    "    for person in list_of_people:\n",
    "        control.append(person['natures_of_control'])\n",
    "    for person in control:\n",
    "        for right in person:\n",
    "            right_per_time.append(right)\n",
    "    return right_per_time"
   ]
  },
  {
   "cell_type": "code",
   "execution_count": 20,
   "id": "younger-paste",
   "metadata": {},
   "outputs": [],
   "source": [
    "def count_values(array_of_rights):   \n",
    "    rights = np.array(array_of_rights)\n",
    "    frequency_list = pd.value_counts(rights)\n",
    "    return frequency_list"
   ]
  },
  {
   "cell_type": "code",
   "execution_count": 19,
   "id": "antique-potter",
   "metadata": {},
   "outputs": [],
   "source": [
    "def get_distribution_of_control(list_of_people):\n",
    "    nature_of_control_list = get_nature_of_control(list_of_people)\n",
    "    distribution = count_values(nature_of_control_list)\n",
    "    return distribution "
   ]
  },
  {
   "cell_type": "code",
   "execution_count": 89,
   "id": "nervous-synthetic",
   "metadata": {},
   "outputs": [],
   "source": [
    "def sort_by_age(list_of_company_people):\n",
    "    twenties_and_under =[]\n",
    "    thirties = []\n",
    "    fourties = []\n",
    "    fifties = []\n",
    "    over_fifty = []\n",
    "    for company in list_of_company_people:\n",
    "        for person in company:\n",
    "            if 'date_of_birth' in person.keys():\n",
    "                if 'year' in person['date_of_birth']:\n",
    "                    year_born = person['date_of_birth']['year']\n",
    "                    age = 2021 - year_born\n",
    "                    if age <= 29:     \n",
    "                        twenties_and_under.append(person)\n",
    "                    elif age <= 39:\n",
    "                        thirties.append(person)\n",
    "                    elif age <=49:\n",
    "                        fourties.append(person)\n",
    "                    elif age<=50:\n",
    "                        fifties.append(person)\n",
    "                    else:\n",
    "                        over_fifty.append(person)\n",
    "    return twenties_and_under,thirties, fourties, fifties, over_fifty"
   ]
  },
  {
   "cell_type": "code",
   "execution_count": 41,
   "id": "significant-leonard",
   "metadata": {},
   "outputs": [],
   "source": [
    "def sort_by_gender(list_of_company_people):\n",
    "    women=[]\n",
    "    men = []\n",
    "    other = []\n",
    "    for company in list_of_company_people:\n",
    "        for person in company:\n",
    "            if 'name_elements' in person.keys():\n",
    "                if 'title' in person['name_elements']:\n",
    "                    if (person['name_elements']['title']=='Mrs') or (person['name_elements']['title']=='Mrs ') or (person['name_elements']['title']=='Ms') or (person['name_elements']['title']=='Miss'):\n",
    "                        women.append(person)\n",
    "                    elif (person['name_elements']['title']=='Mr') or (person['name_elements']['title']=='Mr.'):\n",
    "                        men.append(person)\n",
    "                    else:\n",
    "                        other.append(person)\n",
    "    return women,men"
   ]
  },
  {
   "cell_type": "code",
   "execution_count": 86,
   "id": "fixed-courtesy",
   "metadata": {},
   "outputs": [],
   "source": [
    "def distribution_of_companies(companies_info, by_type):\n",
    "    company_heads = list_of_people_running(companies_info)\n",
    "    if by_type == 'gender':\n",
    "        women,men = sort_by_gender(company_heads)\n",
    "        return women,men\n",
    "    elif by_type == 'age':\n",
    "        twenties_and_under,thirties, fourties, fifties, over_fifties = sort_by_age(company_heads)\n",
    "        return twenties_and_under,thirties, fourties, fifties, over_fifties"
   ]
  },
  {
   "cell_type": "code",
   "execution_count": 168,
   "id": "static-thunder",
   "metadata": {
    "scrolled": true
   },
   "outputs": [],
   "source": [
    "def save_data_as_file(data, file_name):\n",
    "    with open(file_name, 'w') as outfile:\n",
    "        json.dump(data, outfile)\n",
    "        \n",
    "def load_file_named(file_name):\n",
    "    loaded_data = []\n",
    "    if os.path.isfile(file_name):\n",
    "        with open(file_name) as infile:\n",
    "            loaded_data =  json.load(infile)\n",
    "    return loaded_data\n",
    "    \n",
    "def add_data_to_file(data_list, file_name):\n",
    "    data = load_file_named(file_name)\n",
    "    data.extend(data_list)\n",
    "    save_data_as_file( data,file_name)"
   ]
  },
  {
   "cell_type": "markdown",
   "id": "sweet-universal",
   "metadata": {},
   "source": [
    "#### Retrieve companies related to tech, recreation, health, education, real estate, and accounting."
   ]
  },
  {
   "cell_type": "code",
   "execution_count": 167,
   "id": "reserved-wright",
   "metadata": {},
   "outputs": [],
   "source": [
    "tech_com = detailed_info_about_companies_with_name('technology', how_many=500)"
   ]
  },
  {
   "cell_type": "code",
   "execution_count": 26,
   "id": "infinite-consultation",
   "metadata": {},
   "outputs": [],
   "source": [
    "real_estate_com = detailed_info_about_companies_with_name('real estate', how_many=500)"
   ]
  },
  {
   "cell_type": "code",
   "execution_count": 27,
   "id": "distant-wisdom",
   "metadata": {
    "scrolled": true
   },
   "outputs": [],
   "source": [
    "accounting_com = detailed_info_about_companies_with_name('accounting', how_many=500)"
   ]
  },
  {
   "cell_type": "code",
   "execution_count": 28,
   "id": "broke-vocabulary",
   "metadata": {
    "scrolled": true
   },
   "outputs": [],
   "source": [
    "education_com = detailed_info_about_companies_with_name('education', how_many=500)"
   ]
  },
  {
   "cell_type": "markdown",
   "id": "middle-fundamental",
   "metadata": {},
   "source": [
    "Create .json file to save data and add data to api_data.json:"
   ]
  },
  {
   "cell_type": "code",
   "execution_count": 84,
   "id": "driving-metropolitan",
   "metadata": {
    "scrolled": true
   },
   "outputs": [],
   "source": [
    "file_name = \"api_data.json\"\n",
    "data = load_file_named(file_name)"
   ]
  },
  {
   "cell_type": "code",
   "execution_count": 71,
   "id": "fixed-character",
   "metadata": {},
   "outputs": [],
   "source": [
    "#add_data_to_file([tech_com], file_name)\n",
    "#add_data_to_file([real_estate_com], file_name)\n",
    "#add_data_to_file([accounting_com], file_name)\n",
    "#add_data_to_file([education_com], file_name)"
   ]
  },
  {
   "cell_type": "markdown",
   "id": "cubic-completion",
   "metadata": {},
   "source": [
    "Get company heads and split them by gender."
   ]
  },
  {
   "cell_type": "markdown",
   "id": "ideal-blair",
   "metadata": {},
   "source": [
    "*If running code by calling data from .json run the cell below:*"
   ]
  },
  {
   "cell_type": "code",
   "execution_count": 72,
   "id": "respected-discussion",
   "metadata": {},
   "outputs": [],
   "source": [
    "#data = load_file_named(file_name)\n",
    "#tech_com = data[0]\n",
    "#real_estate_com = data[1]\n",
    "#accounting_com = data[2]\n",
    "#education_com = data[3]"
   ]
  },
  {
   "cell_type": "code",
   "execution_count": 45,
   "id": "united-psychology",
   "metadata": {
    "scrolled": true
   },
   "outputs": [],
   "source": [
    "tech_women, tech_men = distribution_of_companies(tech_com, 'gender')"
   ]
  },
  {
   "cell_type": "code",
   "execution_count": 56,
   "id": "canadian-advancement",
   "metadata": {},
   "outputs": [],
   "source": [
    "real_estate_women, real_estate_men = distribution_of_companies(real_estate_com, 'gender')"
   ]
  },
  {
   "cell_type": "code",
   "execution_count": 65,
   "id": "speaking-zimbabwe",
   "metadata": {},
   "outputs": [],
   "source": [
    "accounting_women, accounting_men = distribution_of_companies(accounting_com, 'gender')"
   ]
  },
  {
   "cell_type": "code",
   "execution_count": 76,
   "id": "loving-bundle",
   "metadata": {},
   "outputs": [],
   "source": [
    "education_women, education_men = distribution_of_companies(education_com, 'gender')"
   ]
  },
  {
   "cell_type": "markdown",
   "id": "friendly-parallel",
   "metadata": {},
   "source": [
    "Save data to .json file"
   ]
  },
  {
   "cell_type": "code",
   "execution_count": 77,
   "id": "intimate-vector",
   "metadata": {},
   "outputs": [],
   "source": [
    "#add_data_to_file([tech_women], file_name)\n",
    "#add_data_to_file([tech_men], file_name)\n",
    "#add_data_to_file([real_estate_women], file_name)\n",
    "#add_data_to_file([real_estate_men], file_name)\n",
    "#add_data_to_file([accounting_women], file_name)\n",
    "#add_data_to_file([accounting_men], file_name)\n",
    "#add_data_to_file([education_women], file_name)\n",
    "#add_data_to_file([education_men], file_name)"
   ]
  },
  {
   "cell_type": "markdown",
   "id": "irish-address",
   "metadata": {},
   "source": [
    "#### Get company heads and split by age."
   ]
  },
  {
   "cell_type": "code",
   "execution_count": 90,
   "id": "spoken-essence",
   "metadata": {
    "scrolled": true
   },
   "outputs": [],
   "source": [
    "tech_age_twenties_and_under,tech_age_thirties, tech_age_fourties, tech_age_fifties, tech_age_over_fifties = distribution_of_companies(tech_com, 'age')"
   ]
  },
  {
   "cell_type": "code",
   "execution_count": 94,
   "id": "decreased-popularity",
   "metadata": {
    "scrolled": true
   },
   "outputs": [],
   "source": [
    "real_estate_age_twenties_and_under,real_estate_age_thirties, real_estate_age_fourties, real_estate_age_fifties, real_estate_age_over_fifties = distribution_of_companies(real_estate_com, 'age')"
   ]
  },
  {
   "cell_type": "code",
   "execution_count": 97,
   "id": "moderate-concentration",
   "metadata": {},
   "outputs": [],
   "source": [
    "accounting_age_twenties_and_under,accounting_age_thirties, accounting_age_fourties, accounting_age_fifties, accounting_age_over_fifties = distribution_of_companies(accounting_com, 'age')"
   ]
  },
  {
   "cell_type": "code",
   "execution_count": 100,
   "id": "regulated-press",
   "metadata": {},
   "outputs": [],
   "source": [
    "education_age_twenties_and_under,education_age_thirties, education_age_fourties, education_age_fifties, education_age_over_fifties = distribution_of_companies(education_com, 'age')"
   ]
  },
  {
   "cell_type": "markdown",
   "id": "modular-gibraltar",
   "metadata": {},
   "source": [
    "Save data to .json file"
   ]
  },
  {
   "cell_type": "code",
   "execution_count": 101,
   "id": "martial-antarctica",
   "metadata": {},
   "outputs": [],
   "source": [
    "#tech by age\n",
    "#add_data_to_file([tech_age_twenties_and_under], file_name)\n",
    "#add_data_to_file([tech_age_thirties], file_name)\n",
    "#add_data_to_file([tech_age_fourties], file_name)\n",
    "#add_data_to_file([tech_age_fifties], file_name)\n",
    "#add_data_to_file([tech_age_over_fifties], file_name)\n",
    "#real estate by age\n",
    "#add_data_to_file([real_estate_age_twenties_and_under], file_name)\n",
    "#add_data_to_file([real_estate_age_thirties], file_name)\n",
    "#add_data_to_file([real_estate_age_fourties], file_name)\n",
    "#add_data_to_file([real_estate_age_fifties], file_name)\n",
    "#add_data_to_file([real_estate_age_over_fifties], file_name)\n",
    "#accounting by age\n",
    "#add_data_to_file([accounting_age_twenties_and_under], file_name)\n",
    "#add_data_to_file([accounting_age_thirties], file_name)\n",
    "#add_data_to_file([accounting_age_fourties], file_name)\n",
    "#add_data_to_file([accounting_age_fifties], file_name)\n",
    "#add_data_to_file([accounting_age_over_fifties], file_name)\n",
    "#education by age\n",
    "#add_data_to_file([education_age_twenties_and_under], file_name)\n",
    "#add_data_to_file([education_age_thirties], file_name)\n",
    "#add_data_to_file([education_age_fourties], file_name)\n",
    "#add_data_to_file([education_age_fifties], file_name)\n",
    "#add_data_to_file([education_age_over_fifties], file_name)"
   ]
  },
  {
   "cell_type": "markdown",
   "id": "distinct-albuquerque",
   "metadata": {},
   "source": [
    "#### Get distribution of positions by gender."
   ]
  },
  {
   "cell_type": "markdown",
   "id": "extensive-standing",
   "metadata": {},
   "source": [
    "*If running from .json file run the cell below to get data:*"
   ]
  },
  {
   "cell_type": "code",
   "execution_count": 78,
   "id": "breeding-clerk",
   "metadata": {},
   "outputs": [],
   "source": [
    "#file_name = \"api_data.json\"\n",
    "#data = load_file_named(file_name)\n",
    "#tech_women = data[4]\n",
    "#tech_men = data[5]\n",
    "#real_estate_women = data[6]\n",
    "#real_estate_men = data[7]\n",
    "#accounting_women = data[8]\n",
    "#accounting_men = data[9]\n",
    "#education_women = data[10]\n",
    "#education_men = data[11]"
   ]
  },
  {
   "cell_type": "code",
   "execution_count": 107,
   "id": "helpful-mechanics",
   "metadata": {
    "scrolled": false
   },
   "outputs": [],
   "source": [
    "tech_men_distribution = get_distribution_of_control(tech_men)\n",
    "tech_women_distribution = get_distribution_of_control(tech_women)"
   ]
  },
  {
   "cell_type": "code",
   "execution_count": 108,
   "id": "yellow-dominant",
   "metadata": {},
   "outputs": [],
   "source": [
    "real_estate_men_distribution = get_distribution_of_control(real_estate_men)\n",
    "real_estate_women_distribution = get_distribution_of_control(real_estate_women)"
   ]
  },
  {
   "cell_type": "code",
   "execution_count": 109,
   "id": "under-confusion",
   "metadata": {},
   "outputs": [],
   "source": [
    "accounting_men_distribution = get_distribution_of_control(accounting_men)\n",
    "accounting_women_distribution = get_distribution_of_control(accounting_women)"
   ]
  },
  {
   "cell_type": "code",
   "execution_count": 110,
   "id": "stone-poison",
   "metadata": {},
   "outputs": [],
   "source": [
    "education_men_distribution = get_distribution_of_control(education_men)\n",
    "education_women_distribution = get_distribution_of_control(education_women)"
   ]
  },
  {
   "cell_type": "markdown",
   "id": "opened-agent",
   "metadata": {},
   "source": [
    "#### Get distribution of positions by age."
   ]
  },
  {
   "cell_type": "markdown",
   "id": "filled-tooth",
   "metadata": {},
   "source": [
    "*If running from .json file run the cell below to get data:*"
   ]
  },
  {
   "cell_type": "code",
   "execution_count": 102,
   "id": "secure-looking",
   "metadata": {},
   "outputs": [],
   "source": [
    "#file_name = \"api_data.json\"\n",
    "#data = load_file_named(file_name)\n",
    "#tech_age_twenties_and_under = data[12]\n",
    "#tech_age_thirties= data[13]\n",
    "#tech_age_fourties= data[14]\n",
    "#tech_age_fifties= data[15]\n",
    "#tech_age_over_fifties= data[16]\n",
    "#real_estate_age_twenties_and_under= data[17]\n",
    "#real_estate_age_thirties= data[18]\n",
    "#real_estate_age_fourties= data[19]\n",
    "#real_estate_age_fifties= data[20]\n",
    "#real_estate_age_over_fifties= data[21]\n",
    "#accounting_age_twenties_and_under= data[22]\n",
    "#accounting_age_thirties= data[23]\n",
    "#accounting_age_fourties= data[24]\n",
    "#accounting_age_fifties= data[25]\n",
    "#accounting_age_over_fifties= data[26]\n",
    "#education_age_twenties_and_under= data[27]\n",
    "#education_age_thirties= data[28]\n",
    "#education_age_fourties= data[29]\n",
    "#education_age_fifties= data[29]\n",
    "#education_age_over_fifties= data[30]"
   ]
  },
  {
   "cell_type": "code",
   "execution_count": 111,
   "id": "moderate-acrylic",
   "metadata": {},
   "outputs": [],
   "source": [
    "tech_twenties_and_under_distribution = get_distribution_of_control(tech_age_twenties_and_under)\n",
    "tech_thirties_distribution = get_distribution_of_control(tech_age_thirties)\n",
    "tech_fourties_distribution = get_distribution_of_control(tech_age_fourties)\n",
    "tech_fifties_distribution = get_distribution_of_control(tech_age_fifties)\n",
    "tech_over_fifties_distribution = get_distribution_of_control(tech_age_over_fifties)"
   ]
  },
  {
   "cell_type": "code",
   "execution_count": 112,
   "id": "southern-trouble",
   "metadata": {},
   "outputs": [],
   "source": [
    "real_estate_twenties_and_under_distribution = get_distribution_of_control(real_estate_age_twenties_and_under)\n",
    "real_estate_thirties_distribution = get_distribution_of_control(real_estate_age_thirties)\n",
    "real_estate_fourties_distribution = get_distribution_of_control(real_estate_age_fourties)\n",
    "real_estate_fifties_distribution = get_distribution_of_control(real_estate_age_fifties)\n",
    "real_estate_over_fifties_distribution = get_distribution_of_control(real_estate_age_over_fifties)"
   ]
  },
  {
   "cell_type": "code",
   "execution_count": 113,
   "id": "express-luther",
   "metadata": {},
   "outputs": [],
   "source": [
    "accounting_twenties_and_under_distribution = get_distribution_of_control(accounting_age_twenties_and_under)\n",
    "accounting_thirties_distribution = get_distribution_of_control(accounting_age_thirties)\n",
    "accounting_fourties_distribution = get_distribution_of_control(accounting_age_fourties)\n",
    "accounting_fifties_distribution = get_distribution_of_control(accounting_age_fifties)\n",
    "accounting_over_fifties_distribution = get_distribution_of_control(accounting_age_over_fifties)"
   ]
  },
  {
   "cell_type": "code",
   "execution_count": 114,
   "id": "latter-arthur",
   "metadata": {},
   "outputs": [],
   "source": [
    "education_twenties_and_under_distribution = get_distribution_of_control(education_age_twenties_and_under)\n",
    "education_thirties_distribution = get_distribution_of_control(education_age_thirties)\n",
    "education_fourties_distribution = get_distribution_of_control(education_age_fourties)\n",
    "education_fifties_distribution = get_distribution_of_control(education_age_fifties)\n",
    "education_over_fifties_distribution = get_distribution_of_control(education_age_over_fifties)"
   ]
  },
  {
   "cell_type": "markdown",
   "id": "opened-blade",
   "metadata": {},
   "source": [
    "Find top positions held by women and add men in tech and create a dataframe to plot bar graph."
   ]
  },
  {
   "cell_type": "code",
   "execution_count": 119,
   "id": "radical-intro",
   "metadata": {},
   "outputs": [
    {
     "data": {
      "text/plain": [
       "ownership-of-shares-25-to-50-percent     55\n",
       "right-to-appoint-and-remove-directors    38\n",
       "voting-rights-25-to-50-percent           36\n",
       "ownership-of-shares-75-to-100-percent    28\n",
       "voting-rights-75-to-100-percent          20\n",
       "dtype: int64"
      ]
     },
     "execution_count": 119,
     "metadata": {},
     "output_type": "execute_result"
    }
   ],
   "source": [
    "tech_women_distribution[:5]"
   ]
  },
  {
   "cell_type": "code",
   "execution_count": 250,
   "id": "immediate-cattle",
   "metadata": {},
   "outputs": [
    {
     "data": {
      "text/plain": [
       "ownership-of-shares-75-to-100-percent    212\n",
       "right-to-appoint-and-remove-directors    151\n",
       "voting-rights-75-to-100-percent          136\n",
       "ownership-of-shares-25-to-50-percent      93\n",
       "voting-rights-25-to-50-percent            50\n",
       "dtype: int64"
      ]
     },
     "execution_count": 250,
     "metadata": {},
     "output_type": "execute_result"
    }
   ],
   "source": [
    "tech_men_distribution[:5]"
   ]
  },
  {
   "cell_type": "markdown",
   "id": "crude-playlist",
   "metadata": {},
   "source": [
    "### Graph for men vs. women in tech"
   ]
  },
  {
   "cell_type": "code",
   "execution_count": 123,
   "id": "silent-stanford",
   "metadata": {},
   "outputs": [],
   "source": [
    "tech_men_v_women = pd.DataFrame({\n",
    "    \"Men\":[212, 151, 136, 93],\n",
    "    \"Women\":[28, 38, 20, 55],\n",
    "    }, \n",
    "    index=[\"Ownership of 75-100%\", \"Appoint and remove directors\", \"Voting rights 75-100%\", \"Ownership of shares 25-50%\"]\n",
    ")"
   ]
  },
  {
   "cell_type": "code",
   "execution_count": 200,
   "id": "valid-kitchen",
   "metadata": {},
   "outputs": [
    {
     "data": {
      "text/plain": [
       "Text(0, 0.5, 'Number of people')"
      ]
     },
     "execution_count": 200,
     "metadata": {},
     "output_type": "execute_result"
    },
    {
     "data": {
      "image/png": "[encoded data removed]",
      "text/plain": [
       "<Figure size 432x288 with 1 Axes>"
      ]
     },
     "metadata": {
      "needs_background": "light"
     },
     "output_type": "display_data"
    }
   ],
   "source": [
    "tech_men_v_women.plot(kind='bar', stacked=True, color=['steelblue','pink'])\n",
    "plt.xticks(rotation=30, horizontalalignment=\"center\")\n",
    "plt.title(\"Positions of power in technology businesses\")\n",
    "plt.xlabel(\"Rights\")\n",
    "plt.ylabel(\"Number of people\")"
   ]
  },
  {
   "cell_type": "markdown",
   "id": "least-veteran",
   "metadata": {},
   "source": [
    "Control in technology businesses by age:"
   ]
  },
  {
   "cell_type": "code",
   "execution_count": 243,
   "id": "contrary-behavior",
   "metadata": {},
   "outputs": [
    {
     "name": "stdout",
     "output_type": "stream",
     "text": [
      "People in their 20's and under\n",
      "ownership-of-shares-75-to-100-percent    20\n",
      "voting-rights-75-to-100-percent          20\n",
      "right-to-appoint-and-remove-directors    19\n",
      "dtype: int64\n",
      "People in their 30's\n",
      "ownership-of-shares-75-to-100-percent    51\n",
      "right-to-appoint-and-remove-directors    43\n",
      "voting-rights-75-to-100-percent          34\n",
      "dtype: int64\n",
      "People in their 40's\n",
      "ownership-of-shares-75-to-100-percent    65\n",
      "right-to-appoint-and-remove-directors    57\n",
      "ownership-of-shares-25-to-50-percent     47\n",
      "dtype: int64\n",
      "People in their 50's\n",
      "ownership-of-shares-75-to-100-percent    14\n",
      "voting-rights-75-to-100-percent          10\n",
      "right-to-appoint-and-remove-directors     9\n",
      "dtype: int64\n",
      "People over 50\n",
      "ownership-of-shares-75-to-100-percent    120\n",
      "right-to-appoint-and-remove-directors     91\n",
      "ownership-of-shares-25-to-50-percent      90\n",
      "dtype: int64\n"
     ]
    }
   ],
   "source": [
    "print(\"People in their 20's and under\")\n",
    "print(tech_twenties_and_under_distribution[:3])\n",
    "print(\"People in their 30's\")\n",
    "print(tech_thirties_distribution[:3])\n",
    "print(\"People in their 40's\")\n",
    "print(tech_fourties_distribution[:3])\n",
    "print(\"People in their 50's\")\n",
    "print(tech_fifties_distribution[:3])\n",
    "print(\"People over 50\")\n",
    "print(tech_over_fifties_distribution[:3])"
   ]
  },
  {
   "cell_type": "markdown",
   "id": "brown-arrival",
   "metadata": {},
   "source": [
    "Find top positions held by women and add men in real estate and create a dataframe to plot bar graph."
   ]
  },
  {
   "cell_type": "code",
   "execution_count": 137,
   "id": "union-gather",
   "metadata": {},
   "outputs": [
    {
     "data": {
      "text/plain": [
       "ownership-of-shares-75-to-100-percent    37\n",
       "right-to-appoint-and-remove-directors    29\n",
       "ownership-of-shares-25-to-50-percent     28\n",
       "voting-rights-75-to-100-percent          24\n",
       "voting-rights-25-to-50-percent           18\n",
       "dtype: int64"
      ]
     },
     "execution_count": 137,
     "metadata": {},
     "output_type": "execute_result"
    }
   ],
   "source": [
    "real_estate_women_distribution[:5]"
   ]
  },
  {
   "cell_type": "code",
   "execution_count": 245,
   "id": "statewide-album",
   "metadata": {},
   "outputs": [
    {
     "data": {
      "text/plain": [
       "ownership-of-shares-75-to-100-percent    171\n",
       "right-to-appoint-and-remove-directors    130\n",
       "voting-rights-75-to-100-percent          110\n",
       "ownership-of-shares-25-to-50-percent     108\n",
       "voting-rights-25-to-50-percent            73\n",
       "dtype: int64"
      ]
     },
     "execution_count": 245,
     "metadata": {},
     "output_type": "execute_result"
    }
   ],
   "source": [
    "real_estate_men_distribution[:5]"
   ]
  },
  {
   "cell_type": "markdown",
   "id": "accessory-institution",
   "metadata": {},
   "source": [
    "### Graph for men vs. women in real_estate"
   ]
  },
  {
   "cell_type": "code",
   "execution_count": 139,
   "id": "unique-elizabeth",
   "metadata": {},
   "outputs": [],
   "source": [
    "real_estate_men_v_women = pd.DataFrame({\n",
    "    \"Men\":[171, 130, 110,108],\n",
    "    \"Women\":[37, 29, 24, 28],\n",
    "    }, \n",
    "    index=[\"Ownership of 75-100%\", \"Appoint and remove directors\", \"Voting rights 75-100%\", \"Ownership of shares 25-50%\"]\n",
    ")"
   ]
  },
  {
   "cell_type": "code",
   "execution_count": 205,
   "id": "whole-freedom",
   "metadata": {},
   "outputs": [
    {
     "data": {
      "text/plain": [
       "Text(0, 0.5, 'Number of people')"
      ]
     },
     "execution_count": 205,
     "metadata": {},
     "output_type": "execute_result"
    },
    {
     "data": {
      "image/png": "[encoded data removed]",
      "text/plain": [
       "<Figure size 432x288 with 1 Axes>"
      ]
     },
     "metadata": {
      "needs_background": "light"
     },
     "output_type": "display_data"
    }
   ],
   "source": [
    "real_estate_men_v_women.plot(kind='bar', stacked=True,color=['steelblue','pink'])\n",
    "plt.xticks(rotation=30, horizontalalignment=\"center\")\n",
    "plt.title(\"Positions of power in real estate businesses\")\n",
    "plt.xlabel(\"Rights\")\n",
    "plt.ylabel(\"Number of people\")"
   ]
  },
  {
   "cell_type": "markdown",
   "id": "italian-arkansas",
   "metadata": {},
   "source": [
    "Control in real estate businesses by age:"
   ]
  },
  {
   "cell_type": "code",
   "execution_count": 242,
   "id": "descending-atlanta",
   "metadata": {
    "scrolled": true
   },
   "outputs": [
    {
     "name": "stdout",
     "output_type": "stream",
     "text": [
      "People in their 20's and under\n",
      "ownership-of-shares-75-to-100-percent    18\n",
      "right-to-appoint-and-remove-directors    17\n",
      "ownership-of-shares-25-to-50-percent     13\n",
      "dtype: int64\n",
      "People in their 30's\n",
      "ownership-of-shares-75-to-100-percent    47\n",
      "right-to-appoint-and-remove-directors    37\n",
      "voting-rights-75-to-100-percent          35\n",
      "dtype: int64\n",
      "People in their 40's\n",
      "ownership-of-shares-75-to-100-percent    57\n",
      "right-to-appoint-and-remove-directors    53\n",
      "ownership-of-shares-25-to-50-percent     45\n",
      "dtype: int64\n",
      "People in their 50's\n",
      "ownership-of-shares-75-to-100-percent    9\n",
      "voting-rights-75-to-100-percent          5\n",
      "right-to-appoint-and-remove-directors    4\n",
      "dtype: int64\n",
      "People over 50\n",
      "ownership-of-shares-75-to-100-percent    97\n",
      "ownership-of-shares-25-to-50-percent     62\n",
      "voting-rights-75-to-100-percent          58\n",
      "dtype: int64\n"
     ]
    }
   ],
   "source": [
    "print(\"People in their 20's and under\")\n",
    "print(real_estate_twenties_and_under_distribution[:3])\n",
    "print(\"People in their 30's\")\n",
    "print(real_estate_thirties_distribution[:3])\n",
    "print(\"People in their 40's\")\n",
    "print(real_estate_fourties_distribution[:3])\n",
    "print(\"People in their 50's\")\n",
    "print(real_estate_fifties_distribution[:3])\n",
    "print(\"People over 50\")\n",
    "print(real_estate_over_fifties_distribution[:3])"
   ]
  },
  {
   "cell_type": "markdown",
   "id": "elder-detective",
   "metadata": {},
   "source": [
    "Find top positions held by women and add men in accounting and create a dataframe to plot bar graph."
   ]
  },
  {
   "cell_type": "code",
   "execution_count": 144,
   "id": "minimal-backing",
   "metadata": {
    "scrolled": true
   },
   "outputs": [
    {
     "data": {
      "text/plain": [
       "ownership-of-shares-75-to-100-percent    130\n",
       "right-to-appoint-and-remove-directors     67\n",
       "voting-rights-75-to-100-percent           67\n",
       "ownership-of-shares-25-to-50-percent      59\n",
       "voting-rights-25-to-50-percent            36\n",
       "dtype: int64"
      ]
     },
     "execution_count": 144,
     "metadata": {},
     "output_type": "execute_result"
    }
   ],
   "source": [
    "accounting_women_distribution[:5]"
   ]
  },
  {
   "cell_type": "code",
   "execution_count": 244,
   "id": "industrial-induction",
   "metadata": {},
   "outputs": [
    {
     "data": {
      "text/plain": [
       "ownership-of-shares-75-to-100-percent    202\n",
       "right-to-appoint-and-remove-directors    108\n",
       "voting-rights-75-to-100-percent          107\n",
       "ownership-of-shares-25-to-50-percent      85\n",
       "voting-rights-25-to-50-percent            43\n",
       "dtype: int64"
      ]
     },
     "execution_count": 244,
     "metadata": {},
     "output_type": "execute_result"
    }
   ],
   "source": [
    "accounting_men_distribution[:5]"
   ]
  },
  {
   "cell_type": "markdown",
   "id": "returning-salvation",
   "metadata": {},
   "source": [
    "### Graph for men v. women in accounting"
   ]
  },
  {
   "cell_type": "code",
   "execution_count": 146,
   "id": "bright-protocol",
   "metadata": {},
   "outputs": [],
   "source": [
    "accounting_men_v_women = pd.DataFrame({\n",
    "    \"Men\":[202, 108, 107,85],\n",
    "    \"Women\":[130, 67, 67, 59],\n",
    "    }, \n",
    "    index=[\"Ownership of 75-100%\", \"Appoint and remove directors\", \"Voting rights 75-100%\", \"Ownership of shares 25-50%\"]\n",
    ")"
   ]
  },
  {
   "cell_type": "code",
   "execution_count": 203,
   "id": "opponent-lancaster",
   "metadata": {},
   "outputs": [
    {
     "data": {
      "text/plain": [
       "Text(0, 0.5, 'Number of people')"
      ]
     },
     "execution_count": 203,
     "metadata": {},
     "output_type": "execute_result"
    },
    {
     "data": {
      "image/png": "[encoded data removed]",
      "text/plain": [
       "<Figure size 432x288 with 1 Axes>"
      ]
     },
     "metadata": {
      "needs_background": "light"
     },
     "output_type": "display_data"
    }
   ],
   "source": [
    "accounting_men_v_women.plot(kind='bar', stacked=True, color=['steelblue','pink'])\n",
    "plt.xticks(rotation=30, horizontalalignment=\"center\")\n",
    "plt.title(\"Positions of power in accounting businesses\")\n",
    "plt.xlabel(\"Rights\")\n",
    "plt.ylabel(\"Number of people\")"
   ]
  },
  {
   "cell_type": "code",
   "execution_count": 241,
   "id": "compound-quality",
   "metadata": {
    "scrolled": true
   },
   "outputs": [
    {
     "name": "stdout",
     "output_type": "stream",
     "text": [
      "People in their 20's and under\n",
      "ownership-of-shares-75-to-100-percent    19\n",
      "voting-rights-75-to-100-percent          16\n",
      "right-to-appoint-and-remove-directors    16\n",
      "dtype: int64\n",
      "People in their 30's\n",
      "ownership-of-shares-75-to-100-percent    58\n",
      "right-to-appoint-and-remove-directors    33\n",
      "voting-rights-75-to-100-percent          32\n",
      "dtype: int64\n",
      "People in their 40's\n",
      "ownership-of-shares-75-to-100-percent    91\n",
      "right-to-appoint-and-remove-directors    48\n",
      "voting-rights-75-to-100-percent          46\n",
      "dtype: int64\n",
      "People in their 50's\n",
      "ownership-of-shares-75-to-100-percent    13\n",
      "voting-rights-75-to-100-percent           6\n",
      "ownership-of-shares-25-to-50-percent      6\n",
      "dtype: int64\n",
      "People over 50\n",
      "ownership-of-shares-75-to-100-percent    165\n",
      "right-to-appoint-and-remove-directors     82\n",
      "voting-rights-75-to-100-percent           82\n",
      "dtype: int64\n"
     ]
    }
   ],
   "source": [
    "print(\"People in their 20's and under\")\n",
    "print(accounting_twenties_and_under_distribution[:3])\n",
    "print(\"People in their 30's\")\n",
    "print(accounting_thirties_distribution[:3])\n",
    "print(\"People in their 40's\")\n",
    "print(accounting_fourties_distribution[:3])\n",
    "print(\"People in their 50's\")\n",
    "print(accounting_fifties_distribution[:3])\n",
    "print(\"People over 50\")\n",
    "print(accounting_over_fifties_distribution[:3])"
   ]
  },
  {
   "cell_type": "markdown",
   "id": "copyrighted-cookie",
   "metadata": {},
   "source": [
    "Find top positions held by women and add men in education and create a dataframe to plot bar graph."
   ]
  },
  {
   "cell_type": "code",
   "execution_count": 149,
   "id": "spoken-capture",
   "metadata": {},
   "outputs": [
    {
     "data": {
      "text/plain": [
       "ownership-of-shares-75-to-100-percent    83\n",
       "right-to-appoint-and-remove-directors    72\n",
       "voting-rights-75-to-100-percent          58\n",
       "ownership-of-shares-25-to-50-percent     55\n",
       "voting-rights-25-to-50-percent           49\n",
       "dtype: int64"
      ]
     },
     "execution_count": 149,
     "metadata": {},
     "output_type": "execute_result"
    }
   ],
   "source": [
    "education_women_distribution[:5]"
   ]
  },
  {
   "cell_type": "code",
   "execution_count": 246,
   "id": "choice-bidding",
   "metadata": {},
   "outputs": [
    {
     "data": {
      "text/plain": [
       "ownership-of-shares-75-to-100-percent    146\n",
       "right-to-appoint-and-remove-directors    125\n",
       "ownership-of-shares-25-to-50-percent      91\n",
       "voting-rights-75-to-100-percent           87\n",
       "voting-rights-25-to-50-percent            76\n",
       "dtype: int64"
      ]
     },
     "execution_count": 246,
     "metadata": {},
     "output_type": "execute_result"
    }
   ],
   "source": [
    "education_men_distribution[:5]"
   ]
  },
  {
   "cell_type": "markdown",
   "id": "geological-client",
   "metadata": {},
   "source": [
    "### Graph for men vs. women in education"
   ]
  },
  {
   "cell_type": "code",
   "execution_count": 151,
   "id": "opposed-arrangement",
   "metadata": {},
   "outputs": [],
   "source": [
    "education_men_v_women = pd.DataFrame({\n",
    "    \"Men\":[146, 125, 87, 91],\n",
    "    \"Women\":[83, 72,58, 55],\n",
    "    }, \n",
    "     index=[\"Ownership of 75-100%\", \"Appoint and remove directors\", \"Voting rights 75-100%\", \"Ownership of shares 25-50%\"]\n",
    ")"
   ]
  },
  {
   "cell_type": "code",
   "execution_count": 204,
   "id": "norwegian-chapter",
   "metadata": {
    "scrolled": true
   },
   "outputs": [
    {
     "data": {
      "text/plain": [
       "Text(0, 0.5, 'Number of people')"
      ]
     },
     "execution_count": 204,
     "metadata": {},
     "output_type": "execute_result"
    },
    {
     "data": {
      "image/png": "[encoded data removed]",
      "text/plain": [
       "<Figure size 432x288 with 1 Axes>"
      ]
     },
     "metadata": {
      "needs_background": "light"
     },
     "output_type": "display_data"
    }
   ],
   "source": [
    "education_men_v_women.plot(kind='bar', stacked=True, color=['steelblue','pink'])\n",
    "plt.xticks(rotation=30, horizontalalignment=\"center\")\n",
    "plt.title(\"Positions of power in education businesses\")\n",
    "plt.xlabel(\"Rights\")\n",
    "plt.ylabel(\"Number of people\")"
   ]
  },
  {
   "cell_type": "code",
   "execution_count": 253,
   "id": "analyzed-spray",
   "metadata": {},
   "outputs": [
    {
     "name": "stdout",
     "output_type": "stream",
     "text": [
      "People in their 20's and under\n",
      "right-to-appoint-and-remove-directors    18\n",
      "ownership-of-shares-75-to-100-percent    15\n",
      "voting-rights-75-to-100-percent          11\n",
      "dtype: int64\n",
      "People in their 30's\n",
      "ownership-of-shares-75-to-100-percent    58\n",
      "right-to-appoint-and-remove-directors    57\n",
      "voting-rights-75-to-100-percent          45\n",
      "dtype: int64\n",
      "People in their 40's\n",
      "ownership-of-shares-75-to-100-percent    74\n",
      "right-to-appoint-and-remove-directors    60\n",
      "voting-rights-75-to-100-percent          49\n",
      "dtype: int64\n",
      "People in their 50's\n",
      "ownership-of-shares-75-to-100-percent    74\n",
      "right-to-appoint-and-remove-directors    60\n",
      "voting-rights-75-to-100-percent          49\n",
      "dtype: int64\n",
      "People over 50\n",
      "right-to-appoint-and-remove-directors    7\n",
      "ownership-of-shares-75-to-100-percent    6\n",
      "voting-rights-75-to-100-percent          4\n",
      "dtype: int64\n"
     ]
    }
   ],
   "source": [
    "print(\"People in their 20's and under\")\n",
    "print(education_twenties_and_under_distribution[:3])\n",
    "print(\"People in their 30's\")\n",
    "print(education_thirties_distribution[:3])\n",
    "print(\"People in their 40's\")\n",
    "print(education_fourties_distribution[:3])\n",
    "print(\"People in their 50's\")\n",
    "print(education_fifties_distribution[:3])\n",
    "print(\"People over 50\")\n",
    "print(education_over_fifties_distribution[:3])"
   ]
  },
  {
   "cell_type": "code",
   "execution_count": 236,
   "id": "f2922d94",
   "metadata": {
    "scrolled": true
   },
   "outputs": [
    {
     "data": {
      "text/plain": [
       "Text(0, 0.5, 'Number of people')"
      ]
     },
     "execution_count": 236,
     "metadata": {},
     "output_type": "execute_result"
    },
    {
     "data": {
      "image/png": "[encoded data removed]",
      "text/plain": [
       "<Figure size 432x288 with 1 Axes>"
      ]
     },
     "metadata": {
      "needs_background": "light"
     },
     "output_type": "display_data"
    }
   ],
   "source": [
    "tech_men_v_women.plot(kind='bar', stacked=True, color=['steelblue','pink'])\n",
    "plt.xticks(rotation=30, horizontalalignment=\"center\")\n",
    "plt.title(\"Positions of power in technology businesses\")\n",
    "plt.xlabel(\"Rights\")\n",
    "plt.ylabel(\"Number of people\")"
   ]
  },
  {
   "cell_type": "markdown",
   "id": "7ad63e98",
   "metadata": {
    "deletable": false,
    "nbgrader": {
     "cell_type": "code",
     "checksum": "5852b9053d1c37cb5d3d238ee64a94cf",
     "grade": true,
     "grade_id": "cell-7c8b65431ad41ec6",
     "locked": false,
     "points": 100,
     "schema_version": 3,
     "solution": true,
     "task": false
    }
   },
   "source": [
    "## When's a good time to start a tourism business?"
   ]
  },
  {
   "cell_type": "code",
   "execution_count": 272,
   "id": "pleased-treatment",
   "metadata": {},
   "outputs": [],
   "source": [
    "def check_sic_codes(company_list):\n",
    "    sic_codes = []\n",
    "    i = 0\n",
    "    for set_of_companies in company_list:\n",
    "        for company in set_of_companies:\n",
    "            if 'sic_codes' in company.keys():\n",
    "                for code in company['sic_codes']:\n",
    "                    sic_codes.append(company['sic_codes'][i])\n",
    "                else:\n",
    "                    i = 0\n",
    "    frequency = count_values(sic_codes)\n",
    "    return frequency\n",
    "\n",
    "def actual_registered_travel_comp(list_of_companies):\n",
    "    list_of_cos = []\n",
    "    for companies in list_of_companies:\n",
    "        for company in companies:\n",
    "            if 'sic_codes' in company.keys():\n",
    "                for code in company['sic_codes']:\n",
    "                    if company not in list_of_cos: \n",
    "                        if (code == '79110') or (code == '79120')  or (code == '79901') or (code == '55100') or (code == '55201') or (code == '55209') or (code == '55202'):\n",
    "                            list_of_cos.append(company)\n",
    "    return list_of_cos\n",
    "\n",
    "def active_companies(companies):\n",
    "    active_company = []\n",
    "    for company in companies:\n",
    "        if company['company_status'] == \"active\":\n",
    "            active_company.append(company)\n",
    "    return active_company\n",
    "\n",
    "def dead_companies(companies):\n",
    "    dead_companies = []\n",
    "    for company in companies:\n",
    "        if company['company_status'] == \"dissolved\":\n",
    "            dead_companies.append(company)\n",
    "    return dead_companies\n",
    "\n",
    "def get_companies_avg_age(companies):\n",
    "    total_ages = 0\n",
    "    counter = 0\n",
    "    for company in companies:\n",
    "        if ('date_of_creation' in company.keys() and (pd.isna(company['date_of_creation'])==False)):\n",
    "            creation_date = pd.to_datetime(company['date_of_creation'],infer_datetime_format=True)\n",
    "            company_age = datetime.now() - creation_date\n",
    "            company_age = company_age.days\n",
    "            if company_age>1:\n",
    "                total_ages += int(company_age)\n",
    "                counter += 1\n",
    "    avg_age = (total_ages/counter)/365\n",
    "    return avg_age\n",
    "\n",
    "def get_dead_companies_avg_age(companies):\n",
    "    total_ages = 0\n",
    "    counter = 0\n",
    "    for company in companies:\n",
    "        if ('date_of_creation' in company.keys() and (pd.isna(company['date_of_creation'])==False)):\n",
    "            creation_date = pd.to_datetime(company['date_of_creation'],infer_datetime_format=True)\n",
    "            cessation_date = pd.to_datetime(company['date_of_cessation'],infer_datetime_format=True)\n",
    "            company_life = cessation_date - creation_date\n",
    "            company_length = company_life.days\n",
    "            if company_length>1:\n",
    "                total_ages += int(company_length)\n",
    "                counter += 1\n",
    "    avg_age = (total_ages/counter)/365\n",
    "    return avg_age\n",
    "\n",
    "def companies_older_avg(companies, avg_age):\n",
    "    older_than_avg=[]\n",
    "    for company in companies:\n",
    "        if ('date_of_creation' in company.keys()):\n",
    "            creation_date = pd.to_datetime(company['date_of_creation'],infer_datetime_format=True)\n",
    "            company_age = datetime.now() - creation_date\n",
    "            company_age = (company_age.days)/365\n",
    "        if avg_age <=company_age:\n",
    "            older_than_avg.append(company)\n",
    "    return older_than_avg\n",
    "\n",
    "def month_of_creation_or_cessation(companies,create_or_dead):\n",
    "    time_period = []\n",
    "    if create_or_dead == 'creation':\n",
    "        for company in companies:\n",
    "            if ('date_of_creation' in company.keys() and (pd.isna(company['date_of_creation'])==False)):\n",
    "                creation_date = pd.to_datetime(company['date_of_creation'],infer_datetime_format=True)\n",
    "                creation_time = creation_date.month\n",
    "                if creation_time>0:\n",
    "                    time_period.append(creation_time)\n",
    "        return time_period\n",
    "    else:\n",
    "        for company in companies:\n",
    "            if ('date_of_cessation' in company.keys() and (pd.isna(company['date_of_cessation'])==False)):\n",
    "                cessation_date = pd.to_datetime(company['date_of_cessation'],infer_datetime_format=True)\n",
    "                cessation_time = cessation_date.month\n",
    "                if cessation_time>0:\n",
    "                    time_period.append(cessation_time)\n",
    "        return time_period\n",
    "    \n",
    "def year_of_creation_or_cessation(companies,create_or_dead):\n",
    "    time_period = []\n",
    "    if create_or_dead == 'creation':\n",
    "        for company in companies:\n",
    "            if ('date_of_creation' in company.keys() and (pd.isna(company['date_of_creation'])==False)):\n",
    "                creation_date = pd.to_datetime(company['date_of_creation'],infer_datetime_format=True)\n",
    "                creation_time = creation_date.year\n",
    "                if creation_time>0:\n",
    "                    time_period.append(creation_time)\n",
    "        return time_period\n",
    "    else:\n",
    "        for company in companies:\n",
    "            if ('date_of_cessation' in company.keys() and (pd.isna(company['date_of_cessation'])==False)):\n",
    "                cessation_date = pd.to_datetime(company['date_of_cessation'],infer_datetime_format=True)\n",
    "                cessation_time = cessation_date.year\n",
    "                if cessation_time>0:\n",
    "                    time_period.append(cessation_time)\n",
    "        return time_period\n",
    "    \n",
    "def cities_of_comp(companies):\n",
    "    cities = []\n",
    "    for company in companies:\n",
    "        if 'locality' in company['registered_office_address'].keys():\n",
    "            cities.append(company['registered_office_address']['locality'])\n",
    "    return cities"
   ]
  },
  {
   "cell_type": "markdown",
   "id": "olympic-medicine",
   "metadata": {},
   "source": [
    "Get data on companies from tourism industry"
   ]
  },
  {
   "cell_type": "code",
   "execution_count": 249,
   "id": "brilliant-postage",
   "metadata": {
    "scrolled": true
   },
   "outputs": [],
   "source": [
    "travel_companies = detailed_info_about_companies_with_name('travel', 500)"
   ]
  },
  {
   "cell_type": "code",
   "execution_count": 255,
   "id": "statistical-parade",
   "metadata": {},
   "outputs": [],
   "source": [
    "trip_companies = detailed_info_about_companies_with_name('trip', 500)"
   ]
  },
  {
   "cell_type": "code",
   "execution_count": 258,
   "id": "careful-disorder",
   "metadata": {},
   "outputs": [],
   "source": [
    "cruise_companies = detailed_info_about_companies_with_name('cruise', 500)"
   ]
  },
  {
   "cell_type": "code",
   "execution_count": 260,
   "id": "a9e48f86",
   "metadata": {},
   "outputs": [],
   "source": [
    "bnb_companies = detailed_info_about_companies_with_name('B&B', 500)"
   ]
  },
  {
   "cell_type": "code",
   "execution_count": 265,
   "id": "ignored-avenue",
   "metadata": {},
   "outputs": [],
   "source": [
    "souvenir_companies = detailed_info_about_companies_with_name('souvenir', 500)"
   ]
  },
  {
   "cell_type": "markdown",
   "id": "acknowledged-battle",
   "metadata": {},
   "source": [
    "Save data on .json file:"
   ]
  },
  {
   "cell_type": "code",
   "execution_count": 266,
   "id": "spare-coupon",
   "metadata": {},
   "outputs": [],
   "source": [
    "#file_name = \"api_data_2.json\"\n",
    "#data = load_file_named(file_name)\n",
    "\n",
    "#add_data_to_file([travel_companies], file_name)\n",
    "#add_data_to_file([trip_companies], file_name)\n",
    "#add_data_to_file([cruise_companies], file_name)\n",
    "#add_data_to_file([bnb_companies], file_name)\n",
    "#add_data_to_file([souvenir_companies], file_name)"
   ]
  },
  {
   "cell_type": "markdown",
   "id": "brazilian-astronomy",
   "metadata": {},
   "source": [
    "*If running from .json file, run cell below to fetch data:*"
   ]
  },
  {
   "cell_type": "code",
   "execution_count": null,
   "id": "fitting-dynamics",
   "metadata": {},
   "outputs": [],
   "source": [
    "#file_name = \"api_data_2.json\"\n",
    "#data = load_file_named(file_name)\n",
    "#travel_companies = data[0]\n",
    "#trip_companies = data[1]\n",
    "#cruise_companies = data[2]\n",
    "#bnb_companies = data[3]\n",
    "#souvenir_companies = data[4]"
   ]
  },
  {
   "cell_type": "markdown",
   "id": "demanding-packing",
   "metadata": {},
   "source": [
    "Check most frequent SIC codes and cross-check with SIC database for businesses pertaining to tourism industry"
   ]
  },
  {
   "cell_type": "code",
   "execution_count": 270,
   "id": "regulation-debut",
   "metadata": {},
   "outputs": [],
   "source": [
    "potential_companies = [travel_companies,trip_companies,cruise_companies,bnb_companies,souvenir_companies]"
   ]
  },
  {
   "cell_type": "code",
   "execution_count": 275,
   "id": "prescription-million",
   "metadata": {
    "collapsed": true
   },
   "outputs": [
    {
     "name": "stdout",
     "output_type": "stream",
     "text": [
      "79110    409\n",
      "79120     87\n",
      "82990     78\n",
      "47190     77\n",
      "99999     76\n",
      "50100     65\n",
      "49320     64\n",
      "96090     59\n",
      "47910     54\n",
      "70229     52\n",
      "dtype: int64\n"
     ]
    }
   ],
   "source": [
    "most_common_sic_codes = check_sic_codes(potential_companies)\n",
    "pp.pprint(most_common_sic_codes[:10])"
   ]
  },
  {
   "cell_type": "markdown",
   "id": "tight-health",
   "metadata": {},
   "source": [
    "Filter all companies found and only keep those who have one of 7 codes pertaining to tourism industry."
   ]
  },
  {
   "cell_type": "code",
   "execution_count": 276,
   "id": "cooked-porter",
   "metadata": {},
   "outputs": [],
   "source": [
    "registered_travel_comp = actual_registered_travel_comp(potential_companies)"
   ]
  },
  {
   "cell_type": "markdown",
   "id": "formed-margin",
   "metadata": {},
   "source": [
    "Separate active and dead/failed tourism companies."
   ]
  },
  {
   "cell_type": "code",
   "execution_count": 278,
   "id": "accessible-radio",
   "metadata": {},
   "outputs": [],
   "source": [
    "active_registered_travel_companies = active_companies(registered_travel_comp)"
   ]
  },
  {
   "cell_type": "code",
   "execution_count": 279,
   "id": "spectacular-reproduction",
   "metadata": {},
   "outputs": [],
   "source": [
    "dead_travel_companies = dead_companies(registered_travel_comp)"
   ]
  },
  {
   "cell_type": "markdown",
   "id": "concrete-mattress",
   "metadata": {},
   "source": [
    "Get average age of active companies and average lifespan of failed companies."
   ]
  },
  {
   "cell_type": "code",
   "execution_count": 280,
   "id": "operating-tracker",
   "metadata": {},
   "outputs": [
    {
     "data": {
      "text/plain": [
       "6.949056670560335"
      ]
     },
     "execution_count": 280,
     "metadata": {},
     "output_type": "execute_result"
    }
   ],
   "source": [
    "avg_age_active_companies = get_companies_avg_age(active_registered_travel_companies)\n",
    "avg_age_active_companies"
   ]
  },
  {
   "cell_type": "code",
   "execution_count": 281,
   "id": "broke-siemens",
   "metadata": {},
   "outputs": [
    {
     "data": {
      "text/plain": [
       "4.207023265927376"
      ]
     },
     "execution_count": 281,
     "metadata": {},
     "output_type": "execute_result"
    }
   ],
   "source": [
    "avg_age_dead_companies = get_dead_companies_avg_age(dead_travel_companies)\n",
    "avg_age_dead_companies"
   ]
  },
  {
   "cell_type": "markdown",
   "id": "massive-boards",
   "metadata": {},
   "source": [
    "Retrieve companies that are above the average age and find their average age."
   ]
  },
  {
   "cell_type": "code",
   "execution_count": 282,
   "id": "violent-thickness",
   "metadata": {
    "scrolled": true
   },
   "outputs": [
    {
     "data": {
      "text/plain": [
       "16.581765857027744"
      ]
     },
     "execution_count": 282,
     "metadata": {},
     "output_type": "execute_result"
    }
   ],
   "source": [
    "old_travel_comp = companies_older_avg(active_registered_travel_companies, avg_age_active_companies)\n",
    "old_travel_avg_age = get_companies_avg_age(old_travel_comp)\n",
    "old_travel_avg_age"
   ]
  },
  {
   "cell_type": "markdown",
   "id": "lonely-saint",
   "metadata": {},
   "source": [
    "Find the month that most companies were created and the months that most companies seized to exist."
   ]
  },
  {
   "cell_type": "code",
   "execution_count": 283,
   "id": "palestinian-venture",
   "metadata": {},
   "outputs": [],
   "source": [
    "active_month_of_creation = month_of_creation_or_cessation(active_registered_travel_companies, 'creation')\n",
    "old_travel_comp_creation = month_of_creation_or_cessation(old_travel_comp, 'creation')\n",
    "month_of_cessation = month_of_creation_or_cessation(dead_travel_companies, 'a')"
   ]
  },
  {
   "cell_type": "code",
   "execution_count": 284,
   "id": "standing-electronics",
   "metadata": {},
   "outputs": [
    {
     "name": "stdout",
     "output_type": "stream",
     "text": [
      "Frequency of month of creation for older than average tourism companies.\n",
      "7     17\n",
      "4     15\n",
      "5     12\n",
      "8     11\n",
      "2     10\n",
      "12    10\n",
      "9     10\n",
      "10     9\n",
      "3      8\n",
      "11     8\n",
      "6      5\n",
      "1      4\n",
      "dtype: int64\n"
     ]
    }
   ],
   "source": [
    "print('Frequency of month of creation for older than average tourism companies.')\n",
    "print(pd.value_counts(old_travel_comp_creation))"
   ]
  },
  {
   "cell_type": "code",
   "execution_count": 299,
   "id": "designed-federation",
   "metadata": {},
   "outputs": [],
   "source": [
    "old_x = [1,2,3,4,5,6,7,8,9,10,11,12]\n",
    "old_y = [4,10,8,15,12,5,17,11,10,9,8,10]"
   ]
  },
  {
   "cell_type": "code",
   "execution_count": 285,
   "id": "pressing-mozambique",
   "metadata": {},
   "outputs": [
    {
     "name": "stdout",
     "output_type": "stream",
     "text": [
      "Frequency of month of creation for all active tourism companies.\n",
      "4     43\n",
      "7     39\n",
      "2     38\n",
      "11    33\n",
      "8     33\n",
      "9     32\n",
      "3     30\n",
      "10    29\n",
      "6     29\n",
      "12    28\n",
      "1     27\n",
      "5     26\n",
      "dtype: int64\n"
     ]
    }
   ],
   "source": [
    "print('Frequency of month of creation for all active tourism companies.')\n",
    "print(pd.value_counts(active_month_of_creation))"
   ]
  },
  {
   "cell_type": "code",
   "execution_count": 286,
   "id": "established-tackle",
   "metadata": {},
   "outputs": [
    {
     "name": "stdout",
     "output_type": "stream",
     "text": [
      "Frequency of month of cessation for all failed tourism companies.\n",
      "9     18\n",
      "3     17\n",
      "10    16\n",
      "4     11\n",
      "1     10\n",
      "7     10\n",
      "8     10\n",
      "5      9\n",
      "12     9\n",
      "6      9\n",
      "11     4\n",
      "2      3\n",
      "dtype: int64\n"
     ]
    }
   ],
   "source": [
    "print('Frequency of month of cessation for all failed tourism companies.')\n",
    "print(pd.value_counts(month_of_cessation))"
   ]
  },
  {
   "cell_type": "code",
   "execution_count": 300,
   "id": "expanded-church",
   "metadata": {},
   "outputs": [],
   "source": [
    "cess_x = [1,2,3,4,5,6,7,8,9,10,11,12]\n",
    "cess_y = [10,3,17,11,9,9,10,10,18,16,4,9]"
   ]
  },
  {
   "cell_type": "markdown",
   "id": "delayed-dietary",
   "metadata": {},
   "source": [
    "Get year of creation and cessation for all three groups of companies and investigate frequency."
   ]
  },
  {
   "cell_type": "code",
   "execution_count": 287,
   "id": "combined-shade",
   "metadata": {},
   "outputs": [],
   "source": [
    "old_travel_comp_creation = year_of_creation_or_cessation(old_travel_comp, 'creation')\n",
    "active_travel_comp_creation = year_of_creation_or_cessation(active_registered_travel_companies, 'creation')\n",
    "dead_travel_comp_founding =year_of_creation_or_cessation(dead_travel_companies, '')"
   ]
  },
  {
   "cell_type": "code",
   "execution_count": 336,
   "id": "usual-reducing",
   "metadata": {},
   "outputs": [
    {
     "name": "stdout",
     "output_type": "stream",
     "text": [
      "Frequency of years of creation for all active tourism companies.\n",
      "2019    1\n",
      "2006    1\n",
      "2020    1\n",
      "2021    1\n",
      "2017    1\n",
      "dtype: int64\n"
     ]
    }
   ],
   "source": [
    "print('Frequency of years of creation for all active tourism companies.')\n",
    "print(pd.value_counts(active_travel_comp_creation[:5]))"
   ]
  },
  {
   "cell_type": "code",
   "execution_count": 335,
   "id": "caring-grant",
   "metadata": {
    "scrolled": true
   },
   "outputs": [
    {
     "name": "stdout",
     "output_type": "stream",
     "text": [
      "Frequency of years of creation for older than average tourism companies.\n",
      "2011    2\n",
      "2006    1\n",
      "2002    1\n",
      "2005    1\n",
      "dtype: int64\n"
     ]
    }
   ],
   "source": [
    "print('Frequency of years of creation for older than average tourism companies.')\n",
    "print(pd.value_counts(old_travel_comp_creation[:5]))"
   ]
  },
  {
   "cell_type": "code",
   "execution_count": 290,
   "id": "educational-summary",
   "metadata": {
    "scrolled": false
   },
   "outputs": [
    {
     "name": "stdout",
     "output_type": "stream",
     "text": [
      "Frequency of years of cessation for all dead tourism companies.\n",
      "2021    66\n",
      "2019    19\n",
      "2020    12\n",
      "2018     9\n",
      "2017     5\n",
      "2013     5\n",
      "2014     4\n",
      "2015     3\n",
      "2016     3\n",
      "dtype: int64\n"
     ]
    }
   ],
   "source": [
    "print('Frequency of years of cessation for all dead tourism companies.')\n",
    "print(pd.value_counts(dead_travel_comp_founding))"
   ]
  },
  {
   "cell_type": "markdown",
   "id": "purple-editing",
   "metadata": {},
   "source": [
    "Get cities where most of the active, dead, and older tourism companies are."
   ]
  },
  {
   "cell_type": "code",
   "execution_count": 291,
   "id": "answering-tulsa",
   "metadata": {},
   "outputs": [],
   "source": [
    "dead_travel_cities = cities_of_comp(dead_travel_companies)\n",
    "old_travel_cities = cities_of_comp(old_travel_comp)\n",
    "active_travel_cities = cities_of_comp(active_registered_travel_companies)"
   ]
  },
  {
   "cell_type": "code",
   "execution_count": 585,
   "id": "metropolitan-rubber",
   "metadata": {},
   "outputs": [
    {
     "data": {
      "text/plain": [
       "London        32\n",
       "Redditch       3\n",
       "Manchester     3\n",
       "Leicester      2\n",
       "Brighton       2\n",
       "Isleworth      2\n",
       "Birmingham     2\n",
       "Tring          2\n",
       "Colchester     2\n",
       "Cheltenham     2\n",
       "dtype: int64"
      ]
     },
     "execution_count": 585,
     "metadata": {},
     "output_type": "execute_result"
    }
   ],
   "source": [
    "pd.value_counts(old_travel_cities)[:10]"
   ]
  },
  {
   "cell_type": "code",
   "execution_count": 583,
   "id": "portable-programmer",
   "metadata": {
    "scrolled": true
   },
   "outputs": [
    {
     "data": {
      "text/plain": [
       "London        125\n",
       "Leicester       8\n",
       "Manchester      6\n",
       "Glasgow         6\n",
       "Preston         5\n",
       "Nottingham      4\n",
       "Isleworth       4\n",
       "Grimsby         4\n",
       "Birmingham      4\n",
       "Bedford         3\n",
       "dtype: int64"
      ]
     },
     "execution_count": 583,
     "metadata": {},
     "output_type": "execute_result"
    }
   ],
   "source": [
    "pd.value_counts(active_travel_cities)[:10]"
   ]
  },
  {
   "cell_type": "code",
   "execution_count": 294,
   "id": "incorporated-distributor",
   "metadata": {
    "scrolled": true
   },
   "outputs": [
    {
     "data": {
      "text/plain": [
       "London        40\n",
       "Portsmouth     3\n",
       "Ilford         3\n",
       "Solihull       3\n",
       "Birmingham     3\n",
       "dtype: int64"
      ]
     },
     "execution_count": 294,
     "metadata": {},
     "output_type": "execute_result"
    }
   ],
   "source": [
    "pd.value_counts(dead_travel_cities)[:5]"
   ]
  },
  {
   "cell_type": "code",
   "execution_count": 295,
   "id": "heavy-spencer",
   "metadata": {
    "scrolled": true
   },
   "outputs": [
    {
     "data": {
      "text/plain": [
       "9     18\n",
       "3     17\n",
       "10    16\n",
       "4     11\n",
       "1     10\n",
       "dtype: int64"
      ]
     },
     "execution_count": 295,
     "metadata": {},
     "output_type": "execute_result"
    }
   ],
   "source": [
    "pd.value_counts(month_of_cessation)[:5]"
   ]
  },
  {
   "cell_type": "code",
   "execution_count": 333,
   "id": "electoral-gothic",
   "metadata": {
    "collapsed": true
   },
   "outputs": [
    {
     "data": {
      "text/plain": [
       "2011    12\n",
       "2012    11\n",
       "2010    10\n",
       "2014     9\n",
       "2004     8\n",
       "2006     8\n",
       "2013     7\n",
       "2008     6\n",
       "2005     6\n",
       "2007     5\n",
       "2002     5\n",
       "2009     5\n",
       "1996     4\n",
       "2003     4\n",
       "1993     2\n",
       "1995     2\n",
       "1994     2\n",
       "1987     2\n",
       "1989     2\n",
       "1969     1\n",
       "dtype: int64"
      ]
     },
     "execution_count": 333,
     "metadata": {},
     "output_type": "execute_result"
    }
   ],
   "source": [
    "pd.value_counts(old_travel_comp_creation)[:20]"
   ]
  },
  {
   "cell_type": "code",
   "execution_count": 307,
   "id": "greatest-affair",
   "metadata": {},
   "outputs": [],
   "source": [
    "year_old_x = [2004,2005,2006,2007,2008,2009,2010,2011,2012,2013,2014]\n",
    "year_old_y = [8,6,8,5,6,5,10,12,11,7,9]"
   ]
  },
  {
   "cell_type": "markdown",
   "id": "healthy-intensity",
   "metadata": {},
   "source": [
    "Graph experience businesses vs. failed businesses months of inception and creation"
   ]
  },
  {
   "cell_type": "code",
   "execution_count": 301,
   "id": "casual-attitude",
   "metadata": {},
   "outputs": [
    {
     "data": {
      "text/plain": [
       "Text(0, 0.5, 'Number of businesses')"
      ]
     },
     "execution_count": 301,
     "metadata": {},
     "output_type": "execute_result"
    },
    {
     "data": {
      "image/png": "[encoded data removed]",
      "text/plain": [
       "<Figure size 432x288 with 1 Axes>"
      ]
     },
     "metadata": {
      "needs_background": "light"
     },
     "output_type": "display_data"
    }
   ],
   "source": [
    "plt.plot(old_x, old_y, label = \"Experienced businesses (>8 years)\", color='g')\n",
    "\n",
    "# plot lines\n",
    "plt.plot(cess_x, cess_y, label = \"Failed\", color='r')\n",
    "plt.legend()\n",
    "plt.title(\"Month of Inception - Succesful vs Failed Tourism Businesses\")\n",
    "plt.xlabel(\"Month\")\n",
    "plt.xticks(old_x, ['Jan', 'Feb', 'Mar','Apr', 'May','Jun','Jul','Aug','Sep','Oct','Nov','Dec'])\n",
    "plt.ylabel(\"Number of businesses\")"
   ]
  },
  {
   "cell_type": "code",
   "execution_count": 311,
   "id": "departmental-mailman",
   "metadata": {},
   "outputs": [
    {
     "data": {
      "text/plain": [
       "Text(0, 0.5, 'Number of businesses')"
      ]
     },
     "execution_count": 311,
     "metadata": {},
     "output_type": "execute_result"
    },
    {
     "data": {
      "image/png": "[encoded data removed]",
      "text/plain": [
       "<Figure size 432x288 with 1 Axes>"
      ]
     },
     "metadata": {
      "needs_background": "light"
     },
     "output_type": "display_data"
    }
   ],
   "source": [
    "plt.plot(year_old_x, year_old_y, label = \"Experienced businesses (>6 years)\", color='blue')\n",
    "plt.legend()\n",
    "plt.title(\"Year of Inception - Succesful Businesses\")\n",
    "plt.xlabel(\"Year\")\n",
    "plt.xticks(year_old_x)\n",
    "plt.ylabel(\"Number of businesses\")"
   ]
  },
  {
   "cell_type": "code",
   "execution_count": 334,
   "id": "1094910b",
   "metadata": {},
   "outputs": [
    {
     "data": {
      "text/plain": [
       "Text(0, 0.5, 'Number of businesses')"
      ]
     },
     "execution_count": 334,
     "metadata": {},
     "output_type": "execute_result"
    },
    {
     "data": {
      "image/png": "[encoded data removed]",
      "text/plain": [
       "<Figure size 1080x288 with 2 Axes>"
      ]
     },
     "metadata": {
      "needs_background": "light"
     },
     "output_type": "display_data"
    }
   ],
   "source": [
    "plt.figure(figsize=(15,4))\n",
    "\n",
    "plt.subplot(1,2,1)\n",
    "plt.plot(old_x, old_y, label = \"Experienced businesses (>6 years)\", color='g')\n",
    "# plot lines\n",
    "plt.plot(cess_x, cess_y, label = \"Failed\", color='r')\n",
    "plt.legend()\n",
    "plt.title(\"Month of Inception - Succesful vs Failed Tourism Businesses\")\n",
    "plt.xlabel(\"Month\")\n",
    "plt.xticks(old_x, ['Jan', 'Feb', 'Mar','Apr', 'May','Jun','Jul','Aug','Sep','Oct','Nov','Dec'])\n",
    "plt.ylabel(\"Number of businesses\")\n",
    "\n",
    "plt.subplot(1,2,2)\n",
    "plt.plot(year_old_x, year_old_y, label = \"Experienced businesses (>6 years)\", color='blue')\n",
    "plt.legend()\n",
    "plt.title(\"Year of Inception - Succesful Tourism Businesses\")\n",
    "plt.xlabel(\"Year\")\n",
    "plt.xticks(year_old_x)\n",
    "plt.ylabel(\"Number of businesses\")"
   ]
  },
  {
   "cell_type": "markdown",
   "id": "856cc4fb",
   "metadata": {
    "deletable": false,
    "nbgrader": {
     "cell_type": "code",
     "checksum": "7cc2cae3f32d42f786fc296b8cca2655",
     "grade": true,
     "grade_id": "cell-fdc7a4890d4d0d75",
     "locked": false,
     "points": 100,
     "schema_version": 3,
     "solution": true,
     "task": false
    }
   },
   "source": [
    "## What is the best place in UK to set up a fintech company? "
   ]
  },
  {
   "cell_type": "markdown",
   "id": "fewer-input",
   "metadata": {},
   "source": [
    "Helper functions:"
   ]
  },
  {
   "cell_type": "code",
   "execution_count": 337,
   "id": "likely-pharmaceutical",
   "metadata": {},
   "outputs": [],
   "source": [
    "def get_distribution(list_of_items):\n",
    "    distribution = count_values(list_of_items)\n",
    "    return distribution "
   ]
  },
  {
   "cell_type": "code",
   "execution_count": 580,
   "id": "skilled-lawyer",
   "metadata": {},
   "outputs": [],
   "source": [
    "import collections\n",
    "from wordcloud import WordCloud\n",
    "from matplotlib.colors import LinearSegmentedColormap\n",
    "from PIL import Image\n",
    "from numpy import asarray\n",
    "\n",
    "def filter_fintech_comp(list_of_companies):\n",
    "    list_of_cos = []\n",
    "    for companies in list_of_companies:\n",
    "        for company in companies:\n",
    "            if 'sic_codes' in company.keys():\n",
    "                for code in company['sic_codes']:\n",
    "                    if company not in list_of_cos: \n",
    "                        if (code == '62020') or (code == '62012')  or (code == '64999') or (code == '62090') or (code == '82990') or (code == '70229') or (code == '64929'):\n",
    "                            list_of_cos.append(company)\n",
    "    return list_of_cos\n",
    "\n",
    "def store_by_year_creation(list_of_companies):\n",
    "    fintech_2018=[]\n",
    "    fintech_2019=[]\n",
    "    fintech_2020=[]\n",
    "    fintech_2021=[]\n",
    "    fintech = []\n",
    "    for company in list_of_companies:\n",
    "        creation_date = pd.to_datetime(company['date_of_creation'],infer_datetime_format=True)\n",
    "        creation_time = creation_date.year\n",
    "        if creation_time == 2018:\n",
    "            fintech_2018.append(company)\n",
    "        elif creation_time == 2019:\n",
    "            fintech_2019.append(company)\n",
    "        elif creation_time == 2020:\n",
    "            fintech_2020.append(company)\n",
    "        elif creation_time == 2021:\n",
    "            fintech_2021.append(company)\n",
    "        else:\n",
    "            fintech.append(company)\n",
    "    return fintech_2018, fintech_2019, fintech_2020, fintech_2021, fintech\n",
    "\n",
    "def frequency_of_cities(position_list):\n",
    "    counter = collections.Counter(position_list)\n",
    "    return counter\n",
    "\n",
    "def get_word_cloud(frequencies):\n",
    "    medical_icon_mask_image = np.array(Image.open(\"uk_map.png\"))\n",
    "    colors = [\"#6D37F5\", '#57BFB5', '#ECB0C1', '#EB675F']\n",
    "    #Colours of Monzo bank, starling bank, moneybox, and Klarna\n",
    "    cmap = LinearSegmentedColormap.from_list(\"mycmap\", colors)\n",
    "    wordcloud = WordCloud(width=1000, height=1600, background_color=\"white\", mask=medical_icon_mask_image, colormap=cmap)\n",
    "    wordcloud.generate_from_frequencies(frequencies)\n",
    "    plt.figure(figsize=(10,14))\n",
    "    plt.imshow(wordcloud, interpolation=\"bilinear\")\n",
    "    plt.title(\"Cities of fintech businesses founded before 2018 \", fontsize = 'larger', fontweight = 'bold', verticalalignment = 'center')\n",
    "    plt.axis(\"off\")"
   ]
  },
  {
   "cell_type": "code",
   "execution_count": 338,
   "id": "9cb5fc7b",
   "metadata": {},
   "outputs": [],
   "source": [
    "fintech_companies = detailed_info_about_companies_with_name('fintech', 500)"
   ]
  },
  {
   "cell_type": "code",
   "execution_count": 342,
   "id": "b7446b0f",
   "metadata": {},
   "outputs": [],
   "source": [
    "crypto_companies = detailed_info_about_companies_with_name('crypto', 500)"
   ]
  },
  {
   "cell_type": "code",
   "execution_count": 344,
   "id": "compressed-rebel",
   "metadata": {},
   "outputs": [],
   "source": [
    "financial_tech_companies = detailed_info_about_companies_with_name('financial technology', 500)"
   ]
  },
  {
   "cell_type": "code",
   "execution_count": 346,
   "id": "changed-brass",
   "metadata": {},
   "outputs": [],
   "source": [
    "lending_companies = detailed_info_about_companies_with_name('digital lending ', 500)"
   ]
  },
  {
   "cell_type": "markdown",
   "id": "lyric-indie",
   "metadata": {},
   "source": [
    "Save to .json file:"
   ]
  },
  {
   "cell_type": "code",
   "execution_count": 347,
   "id": "orange-embassy",
   "metadata": {},
   "outputs": [],
   "source": [
    "#file_name = \"api_data_3.json\"\n",
    "#data = load_file_named(file_name)\n",
    "\n",
    "#add_data_to_file([fintech_companies], file_name)\n",
    "#add_data_to_file([crypto_companies], file_name)\n",
    "#add_data_to_file([financial_tech_companies], file_name)\n",
    "#add_data_to_file([lending_companies], file_name)"
   ]
  },
  {
   "cell_type": "markdown",
   "id": "willing-argument",
   "metadata": {},
   "source": [
    "Check most common SIC codes:"
   ]
  },
  {
   "cell_type": "markdown",
   "id": "american-hudson",
   "metadata": {},
   "source": [
    "*If running from .json file run the cell below:*"
   ]
  },
  {
   "cell_type": "code",
   "execution_count": 341,
   "id": "pediatric-librarian",
   "metadata": {},
   "outputs": [],
   "source": [
    "#file_name = \"api_data_3.json\"\n",
    "#data = load_file_named(file_name)\n",
    "#fintech_companies = data[0]\n",
    "#crypto_companies = data[1]\n",
    "#financial_tech_companies = data[2]\n",
    "#lending_companies = data[3]"
   ]
  },
  {
   "cell_type": "code",
   "execution_count": 348,
   "id": "cleared-genius",
   "metadata": {},
   "outputs": [],
   "source": [
    "potential_fintech_companies = [fintech_companies,crypto_companies,financial_tech_companies, lending_companies]"
   ]
  },
  {
   "cell_type": "code",
   "execution_count": 349,
   "id": "conventional-mouse",
   "metadata": {},
   "outputs": [],
   "source": [
    "most_common_fintech_sic = check_sic_codes(potential_fintech_companies)"
   ]
  },
  {
   "cell_type": "code",
   "execution_count": 350,
   "id": "ideal-medication",
   "metadata": {
    "scrolled": false
   },
   "outputs": [
    {
     "name": "stdout",
     "output_type": "stream",
     "text": [
      "62020    334\n",
      "62012    199\n",
      "64999    167\n",
      "62090    140\n",
      "82990    110\n",
      "70229     81\n",
      "64929     73\n",
      "66300     73\n",
      "64205     73\n",
      "70221     71\n",
      "dtype: int64\n"
     ]
    }
   ],
   "source": [
    "pp.pprint(most_common_fintech_sic[:10])"
   ]
  },
  {
   "cell_type": "markdown",
   "id": "australian-canada",
   "metadata": {},
   "source": [
    "Filter fintech companies based on their SIC codes."
   ]
  },
  {
   "cell_type": "code",
   "execution_count": 353,
   "id": "invalid-parts",
   "metadata": {},
   "outputs": [],
   "source": [
    "true_fintech = filter_fintech_comp(potential_fintech_companies)"
   ]
  },
  {
   "cell_type": "markdown",
   "id": "cordless-orleans",
   "metadata": {},
   "source": [
    "Sort fintech companies by year of creation."
   ]
  },
  {
   "cell_type": "code",
   "execution_count": 354,
   "id": "pressed-framework",
   "metadata": {
    "scrolled": true
   },
   "outputs": [],
   "source": [
    "fintech_2018, fintech_2019, fintech_2020, fintech_2021, fintech_older = store_by_year_creation(true_fintech)"
   ]
  },
  {
   "cell_type": "markdown",
   "id": "challenging-sodium",
   "metadata": {},
   "source": [
    "Get cities where most fintech companies were created by year and find those that are most frequent. "
   ]
  },
  {
   "cell_type": "code",
   "execution_count": 355,
   "id": "distant-vietnamese",
   "metadata": {},
   "outputs": [],
   "source": [
    "cities_fintech_2018 = cities_of_comp(fintech_2018)\n",
    "cities_fintech_2019 = cities_of_comp(fintech_2019)\n",
    "cities_fintech_2020 = cities_of_comp(fintech_2020)\n",
    "cities_fintech_2021 = cities_of_comp(fintech_2021)\n",
    "cities_fintech_older = cities_of_comp(fintech_older)"
   ]
  },
  {
   "cell_type": "code",
   "execution_count": 556,
   "id": "frozen-length",
   "metadata": {
    "scrolled": true
   },
   "outputs": [
    {
     "data": {
      "text/plain": [
       "London                    45\n",
       "Reading                    3\n",
       "Stockport                  3\n",
       "Harrow                     3\n",
       "Cardiff                    3\n",
       "Manchester                 2\n",
       "Leeds                      1\n",
       "Ashford                    1\n",
       "Camberley                  1\n",
       "Woodford Green             1\n",
       "Aylesbury                  1\n",
       "Rossendale                 1\n",
       "Seamer                     1\n",
       "Staines-Upon-Thames        1\n",
       "Glasgow                    1\n",
       "Meridian Business Park     1\n",
       "Hornchurch                 1\n",
       "Wokingham                  1\n",
       "Sutton                     1\n",
       "Hemel Hempstead            1\n",
       "Waterlooville              1\n",
       "Stroud                     1\n",
       "Leicester                  1\n",
       "Edinburgh                  1\n",
       "Harpenden                  1\n",
       "Worthing                   1\n",
       "Lisburn                    1\n",
       "Slough                     1\n",
       "Bath                       1\n",
       "Cambridge                  1\n",
       "Knutsford                  1\n",
       "Bromley                    1\n",
       "Ilford                     1\n",
       "Newport Pagnell            1\n",
       "Derby                      1\n",
       "Fleet                      1\n",
       "Northampton                1\n",
       "Chesham                    1\n",
       "Epsom                      1\n",
       "Brighton & Hove            1\n",
       "Watford                    1\n",
       "Grays                      1\n",
       "Coulsdon                   1\n",
       "Hartfield                  1\n",
       "Hartlepool                 1\n",
       "Helston                    1\n",
       "Colchester                 1\n",
       "Gerrards Cross             1\n",
       "Kempston                   1\n",
       "Fareham                    1\n",
       "dtype: int64"
      ]
     },
     "execution_count": 556,
     "metadata": {},
     "output_type": "execute_result"
    }
   ],
   "source": [
    "pd.value_counts(cities_fintech_2018)"
   ]
  },
  {
   "cell_type": "code",
   "execution_count": 557,
   "id": "respected-roads",
   "metadata": {},
   "outputs": [
    {
     "data": {
      "text/plain": [
       "London                  47\n",
       "Bath                     5\n",
       "Cardiff                  3\n",
       "Altrincham               2\n",
       "Croydon                  2\n",
       "Manchester               2\n",
       "Co Durham                1\n",
       "Atherstone               1\n",
       "Ellesmere Port           1\n",
       "Royston                  1\n",
       "Leicester                1\n",
       "Exeter                   1\n",
       "Cannock                  1\n",
       "Harrow                   1\n",
       "Marlow                   1\n",
       "Sevenoaks                1\n",
       "Weybridge                1\n",
       "West Linton              1\n",
       "Haywards Heath           1\n",
       "Dartfod                  1\n",
       "Norwich                  1\n",
       "Cheadle                  1\n",
       "Stockport                1\n",
       "Edinburgh                1\n",
       "Cirencester              1\n",
       "Peterlee                 1\n",
       "Newbury                  1\n",
       "Putney                   1\n",
       "North Shields            1\n",
       "Bromley                  1\n",
       "Belfast                  1\n",
       "Romford                  1\n",
       "Sutton                   1\n",
       "Buckingham               1\n",
       "Brighton                 1\n",
       "Southall                 1\n",
       "Bedford                  1\n",
       "Witney                   1\n",
       "Kingston Upon Thames     1\n",
       "Waterlooville            1\n",
       "Rochester                1\n",
       "Ilford                   1\n",
       "Leamington Spa           1\n",
       "Reading                  1\n",
       "Chertsey                 1\n",
       "Canterbury               1\n",
       "Potters Bar              1\n",
       "Wells                    1\n",
       "Winchester               1\n",
       "Stafford                 1\n",
       "South Croydon            1\n",
       "Chelmsford               1\n",
       "Hull                     1\n",
       "dtype: int64"
      ]
     },
     "execution_count": 557,
     "metadata": {},
     "output_type": "execute_result"
    }
   ],
   "source": [
    "pd.value_counts(cities_fintech_2019)"
   ]
  },
  {
   "cell_type": "code",
   "execution_count": 558,
   "id": "naughty-scott",
   "metadata": {
    "scrolled": true
   },
   "outputs": [
    {
     "data": {
      "text/plain": [
       "London                    66\n",
       "Bath                       4\n",
       "London,                    2\n",
       "Leicester                  2\n",
       "Brighton                   2\n",
       "Hounslow                   2\n",
       "Romford                    1\n",
       "Salford                    1\n",
       "Kettering                  1\n",
       "Stockport                  1\n",
       "Slough                     1\n",
       "Manchester                 1\n",
       "Horsham                    1\n",
       "Bedford                    1\n",
       "Cambridge                  1\n",
       "Solihull                   1\n",
       "Dudley                     1\n",
       "Altrincham                 1\n",
       "Fleet                      1\n",
       "Birmingham                 1\n",
       "Blackburn                  1\n",
       "Launceston                 1\n",
       "Southend-On-Sea            1\n",
       "Crawley                    1\n",
       "Cardiff                    1\n",
       "England, London            1\n",
       "Stratford                  1\n",
       "Cheltenham                 1\n",
       "Chesham                    1\n",
       "Finchley                   1\n",
       "Ashton Under Lyne          1\n",
       "Camberley                  1\n",
       "Edinburgh                  1\n",
       "Glasgow                    1\n",
       "Warrington                 1\n",
       "Derby                      1\n",
       "Bristol                    1\n",
       "Pinner                     1\n",
       "Aberdeen                   1\n",
       "Bournemouth                1\n",
       "Chelmsford                 1\n",
       "Peterborough               1\n",
       "Kensington And Chelsea     1\n",
       "Brighouse                  1\n",
       "Bolton                     1\n",
       "Corsham                    1\n",
       "Beckenham                  1\n",
       "Ruislip                    1\n",
       "South Croydon              1\n",
       "Middlesex                  1\n",
       "Caernarfon                 1\n",
       "Armagh                     1\n",
       "Mitcham                    1\n",
       "Wilmslow                   1\n",
       "Reading                    1\n",
       "Ilford                     1\n",
       "Melton Mowbray             1\n",
       "dtype: int64"
      ]
     },
     "execution_count": 558,
     "metadata": {},
     "output_type": "execute_result"
    }
   ],
   "source": [
    "pd.value_counts(cities_fintech_2020)"
   ]
  },
  {
   "cell_type": "code",
   "execution_count": 559,
   "id": "polar-yukon",
   "metadata": {},
   "outputs": [
    {
     "data": {
      "text/plain": [
       "London                  85\n",
       "Cardiff                  3\n",
       "Worcester Park           3\n",
       "Manchester               3\n",
       "Northwood                2\n",
       "                        ..\n",
       "Burry Port               1\n",
       "Goole                    1\n",
       "Bollington               1\n",
       "Kingston Upon Thames     1\n",
       "Peterlee                 1\n",
       "Length: 65, dtype: int64"
      ]
     },
     "execution_count": 559,
     "metadata": {},
     "output_type": "execute_result"
    }
   ],
   "source": [
    "pd.value_counts(cities_fintech_2021)"
   ]
  },
  {
   "cell_type": "code",
   "execution_count": 560,
   "id": "covered-third",
   "metadata": {
    "scrolled": true
   },
   "outputs": [
    {
     "data": {
      "text/plain": [
       "London         155\n",
       "Worthing         8\n",
       "Edinburgh        7\n",
       "Manchester       6\n",
       "Woking           5\n",
       "              ... \n",
       "Newark           1\n",
       "Shepperton       1\n",
       "Surbiton         1\n",
       "Lutterworth      1\n",
       "Ely              1\n",
       "Length: 180, dtype: int64"
      ]
     },
     "execution_count": 560,
     "metadata": {},
     "output_type": "execute_result"
    }
   ],
   "source": [
    "pd.value_counts(cities_fintech_older)"
   ]
  },
  {
   "cell_type": "markdown",
   "id": "passive-brunswick",
   "metadata": {},
   "source": [
    "Keep active companies which were founded in each year: prior to 2018 (other),2018,2019,2020,2021."
   ]
  },
  {
   "cell_type": "code",
   "execution_count": 366,
   "id": "instant-tunnel",
   "metadata": {},
   "outputs": [],
   "source": [
    "active_2018 = active_companies(fintech_2018)"
   ]
  },
  {
   "cell_type": "code",
   "execution_count": 367,
   "id": "speaking-andrews",
   "metadata": {},
   "outputs": [],
   "source": [
    "active_2019 = active_companies(fintech_2019)"
   ]
  },
  {
   "cell_type": "code",
   "execution_count": 368,
   "id": "drawn-staff",
   "metadata": {},
   "outputs": [],
   "source": [
    "active_2020 = active_companies(fintech_2020)"
   ]
  },
  {
   "cell_type": "code",
   "execution_count": 369,
   "id": "balanced-browser",
   "metadata": {},
   "outputs": [],
   "source": [
    "active_2021 = active_companies(fintech_2021)"
   ]
  },
  {
   "cell_type": "code",
   "execution_count": 370,
   "id": "established-republican",
   "metadata": {},
   "outputs": [],
   "source": [
    "active_before = active_companies(fintech_older)"
   ]
  },
  {
   "cell_type": "markdown",
   "id": "shared-publisher",
   "metadata": {},
   "source": [
    "Find the percent of companies that are still active based on the year they were founded."
   ]
  },
  {
   "cell_type": "code",
   "execution_count": 372,
   "id": "cross-external",
   "metadata": {
    "scrolled": true
   },
   "outputs": [
    {
     "name": "stdout",
     "output_type": "stream",
     "text": [
      "0.7126168224299065\n"
     ]
    }
   ],
   "source": [
    "percent_active_today_from_before_18 = len(active_before)/len(fintech_older)\n",
    "print(percent_active_today_from_before_18)"
   ]
  },
  {
   "cell_type": "code",
   "execution_count": 373,
   "id": "inner-progressive",
   "metadata": {},
   "outputs": [
    {
     "name": "stdout",
     "output_type": "stream",
     "text": [
      "0.5825242718446602\n"
     ]
    }
   ],
   "source": [
    "percent_active_today_from_2018 = len(active_2018)/len(fintech_2018)\n",
    "print(percent_active_today_from_2018)"
   ]
  },
  {
   "cell_type": "code",
   "execution_count": 374,
   "id": "experienced-bloom",
   "metadata": {},
   "outputs": [
    {
     "name": "stdout",
     "output_type": "stream",
     "text": [
      "0.7222222222222222\n"
     ]
    }
   ],
   "source": [
    "percent_active_today_from_2019 = len(active_2019)/len(fintech_2019)\n",
    "print(percent_active_today_from_2019)"
   ]
  },
  {
   "cell_type": "code",
   "execution_count": 375,
   "id": "designing-welding",
   "metadata": {},
   "outputs": [
    {
     "name": "stdout",
     "output_type": "stream",
     "text": [
      "0.8062015503875969\n"
     ]
    }
   ],
   "source": [
    "percent_active_today_from_2020 = len(active_2020)/len(fintech_2020)\n",
    "print(percent_active_today_from_2020)"
   ]
  },
  {
   "cell_type": "code",
   "execution_count": 376,
   "id": "sixth-characteristic",
   "metadata": {},
   "outputs": [
    {
     "name": "stdout",
     "output_type": "stream",
     "text": [
      "1.0\n"
     ]
    }
   ],
   "source": [
    "percent_active_today_from_2021 = len(active_2021)/len(fintech_2021)\n",
    "print(percent_active_today_from_2021)"
   ]
  },
  {
   "cell_type": "markdown",
   "id": "secondary-register",
   "metadata": {},
   "source": [
    "Filter companies that have failed based on their founding year and get the average time they lasted."
   ]
  },
  {
   "cell_type": "code",
   "execution_count": 379,
   "id": "chemical-summer",
   "metadata": {},
   "outputs": [],
   "source": [
    "failed_fintech_older = dead_companies(fintech_older)\n",
    "failed_avg_age_older = get_dead_companies_avg_age(failed_fintech_other)"
   ]
  },
  {
   "cell_type": "code",
   "execution_count": 380,
   "id": "rocky-castle",
   "metadata": {},
   "outputs": [],
   "source": [
    "failed_fintech_2018 = dead_companies(fintech_2018)\n",
    "failed_avg_age_2018 = get_dead_companies_avg_age(failed_fintech_2018)"
   ]
  },
  {
   "cell_type": "code",
   "execution_count": 381,
   "id": "smaller-green",
   "metadata": {},
   "outputs": [],
   "source": [
    "failed_fintech_2019 = dead_companies(fintech_2019)\n",
    "failed_avg_age_2019 = get_dead_companies_avg_age(failed_fintech_2019)"
   ]
  },
  {
   "cell_type": "code",
   "execution_count": 382,
   "id": "published-registrar",
   "metadata": {},
   "outputs": [],
   "source": [
    "failed_fintech_2020 = dead_companies(fintech_2020)\n",
    "failed_avg_age_2020 = get_dead_companies_avg_age(failed_fintech_2020)"
   ]
  },
  {
   "cell_type": "code",
   "execution_count": 569,
   "id": "noble-friendship",
   "metadata": {},
   "outputs": [],
   "source": [
    "failed_fintech_2021 = dead_companies(fintech_2021)\n",
    "failed_avg_age_2021 = get_dead_companies_avg_age(failed_fintech_2021)"
   ]
  },
  {
   "cell_type": "markdown",
   "id": "ranking-smith",
   "metadata": {
    "scrolled": false
   },
   "source": [
    "All companies founded in 2021 are active"
   ]
  },
  {
   "cell_type": "code",
   "execution_count": 385,
   "id": "posted-israel",
   "metadata": {
    "scrolled": true
   },
   "outputs": [
    {
     "name": "stdout",
     "output_type": "stream",
     "text": [
      "2.2614481409001956\n",
      "1.8658478979688238\n",
      "1.3067397260273972\n",
      "5.456737235367372\n"
     ]
    }
   ],
   "source": [
    "print(failed_avg_age_2018)\n",
    "print(failed_avg_age_2019)\n",
    "print(failed_avg_age_2020)\n",
    "print(failed_avg_age_older)"
   ]
  },
  {
   "cell_type": "markdown",
   "id": "informal-bahamas",
   "metadata": {},
   "source": [
    "Visualise the most frequent city where fintech companies which on average lasted the longest, i.e. those founder before 2018, were located."
   ]
  },
  {
   "cell_type": "code",
   "execution_count": 565,
   "id": "instrumental-university",
   "metadata": {},
   "outputs": [],
   "source": [
    "frequency_of_old_fintech = frequency_of_cities(cities_fintech_older)"
   ]
  },
  {
   "cell_type": "code",
   "execution_count": 579,
   "id": "pleased-drain",
   "metadata": {},
   "outputs": [
    {
     "data": {
      "image/png": "[encoded data removed]",
      "text/plain": [
       "<Figure size 720x1008 with 1 Axes>"
      ]
     },
     "metadata": {
      "needs_background": "light"
     },
     "output_type": "display_data"
    }
   ],
   "source": [
    "get_word_cloud(frequency_of_old_fintech)"
   ]
  }
 ],
 "metadata": {
  "kernelspec": {
   "display_name": "Python 3 (ipykernel)",
   "language": "python",
   "name": "python3"
  },
  "language_info": {
   "codemirror_mode": {
    "name": "ipython",
    "version": 3
   },
   "file_extension": ".py",
   "mimetype": "text/x-python",
   "name": "python",
   "nbconvert_exporter": "python",
   "pygments_lexer": "ipython3",
   "version": "3.9.7"
  }
 },
 "nbformat": 4,
 "nbformat_minor": 5
}
